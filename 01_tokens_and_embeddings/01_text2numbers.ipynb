{
 "cells": [
  {
   "cell_type": "markdown",
   "id": "c27001e0",
   "metadata": {},
   "source": [
    "# Parsing text into words"
   ]
  },
  {
   "cell_type": "code",
   "execution_count": 1,
   "id": "57207705",
   "metadata": {},
   "outputs": [
    {
     "data": {
      "text/plain": [
       "['All that we are is the result of what we have thought',\n",
       " 'To be or not to be that is the question',\n",
       " 'Be yourself everyone else is already taken']"
      ]
     },
     "execution_count": 1,
     "metadata": {},
     "output_type": "execute_result"
    }
   ],
   "source": [
    "# the text\n",
    "text = [ 'All that we are is the result of what we have thought',\n",
    "         'To be or not to be that is the question',\n",
    "         'Be yourself everyone else is already taken' ]\n",
    "\n",
    "text"
   ]
  },
  {
   "cell_type": "code",
   "execution_count": 3,
   "id": "9588e0cf",
   "metadata": {},
   "outputs": [
    {
     "data": {
      "text/plain": [
       "['All',\n",
       " 'that',\n",
       " 'we',\n",
       " 'are',\n",
       " 'is',\n",
       " 'the',\n",
       " 'result',\n",
       " 'of',\n",
       " 'what',\n",
       " 'we',\n",
       " 'have',\n",
       " 'thought']"
      ]
     },
     "execution_count": 3,
     "metadata": {},
     "output_type": "execute_result"
    }
   ],
   "source": [
    "# seperate into words by splitting them\n",
    "import re\n",
    "re.split(' ', text[0])"
   ]
  },
  {
   "cell_type": "code",
   "execution_count": 4,
   "id": "10096962",
   "metadata": {},
   "outputs": [
    {
     "data": {
      "text/plain": [
       "'All that we are is the result of what we have thought'"
      ]
     },
     "execution_count": 4,
     "metadata": {},
     "output_type": "execute_result"
    }
   ],
   "source": [
    "# can recombine into text\n",
    "' '.join( re.split(' ', text[0]) )"
   ]
  },
  {
   "cell_type": "code",
   "execution_count": 5,
   "id": "6d788bde",
   "metadata": {},
   "outputs": [
    {
     "data": {
      "text/plain": [
       "['all',\n",
       " 'that',\n",
       " 'we',\n",
       " 'are',\n",
       " 'is',\n",
       " 'the',\n",
       " 'result',\n",
       " 'of',\n",
       " 'what',\n",
       " 'we',\n",
       " 'have',\n",
       " 'thought',\n",
       " 'to',\n",
       " 'be',\n",
       " 'or',\n",
       " 'not',\n",
       " 'to',\n",
       " 'be',\n",
       " 'that',\n",
       " 'is',\n",
       " 'the',\n",
       " 'question',\n",
       " 'be',\n",
       " 'yourself',\n",
       " 'everyone',\n",
       " 'else',\n",
       " 'is',\n",
       " 'already',\n",
       " 'taken']"
      ]
     },
     "execution_count": 5,
     "metadata": {},
     "output_type": "execute_result"
    }
   ],
   "source": [
    "# make all lower case\n",
    "allwords = re.split(\" \", ' '.join(text).lower())\n",
    "allwords"
   ]
  },
  {
   "cell_type": "markdown",
   "id": "a9a34897",
   "metadata": {},
   "source": [
    "# Create a vocabulary"
   ]
  },
  {
   "cell_type": "code",
   "execution_count": 6,
   "id": "354eb0d3",
   "metadata": {},
   "outputs": [
    {
     "data": {
      "text/plain": [
       "['all',\n",
       " 'already',\n",
       " 'are',\n",
       " 'be',\n",
       " 'else',\n",
       " 'everyone',\n",
       " 'have',\n",
       " 'is',\n",
       " 'not',\n",
       " 'of',\n",
       " 'or',\n",
       " 'question',\n",
       " 'result',\n",
       " 'taken',\n",
       " 'that',\n",
       " 'the',\n",
       " 'thought',\n",
       " 'to',\n",
       " 'we',\n",
       " 'what',\n",
       " 'yourself']"
      ]
     },
     "execution_count": 6,
     "metadata": {},
     "output_type": "execute_result"
    }
   ],
   "source": [
    "# find the unique words\n",
    "vocab = sorted(set(allwords))\n",
    "vocab"
   ]
  },
  {
   "cell_type": "code",
   "execution_count": 7,
   "id": "a7d4d416",
   "metadata": {},
   "outputs": [
    {
     "name": "stdout",
     "output_type": "stream",
     "text": [
      "There are 29 words in the text, and 21 words in the vocabulary\n"
     ]
    }
   ],
   "source": [
    "print(f'There are {len(allwords)} words in the text, and {len(vocab)} words in the vocabulary')"
   ]
  },
  {
   "cell_type": "markdown",
   "id": "26f45c8c",
   "metadata": {},
   "source": [
    "# Create an encoder and decoder"
   ]
  },
  {
   "cell_type": "code",
   "execution_count": 8,
   "id": "e4039be1",
   "metadata": {},
   "outputs": [
    {
     "data": {
      "text/plain": [
       "{'all': 0,\n",
       " 'already': 1,\n",
       " 'are': 2,\n",
       " 'be': 3,\n",
       " 'else': 4,\n",
       " 'everyone': 5,\n",
       " 'have': 6,\n",
       " 'is': 7,\n",
       " 'not': 8,\n",
       " 'of': 9,\n",
       " 'or': 10,\n",
       " 'question': 11,\n",
       " 'result': 12,\n",
       " 'taken': 13,\n",
       " 'that': 14,\n",
       " 'the': 15,\n",
       " 'thought': 16,\n",
       " 'to': 17,\n",
       " 'we': 18,\n",
       " 'what': 19,\n",
       " 'yourself': 20}"
      ]
     },
     "execution_count": 8,
     "metadata": {},
     "output_type": "execute_result"
    }
   ],
   "source": [
    "# encoder is a python dict\n",
    "word2idx = {}\n",
    "for i, word in enumerate(vocab):\n",
    "    word2idx[word] = i\n",
    "\n",
    "word2idx"
   ]
  },
  {
   "cell_type": "code",
   "execution_count": 9,
   "id": "20bc3d68",
   "metadata": {},
   "outputs": [
    {
     "data": {
      "text/plain": [
       "{0: 'all',\n",
       " 1: 'already',\n",
       " 2: 'are',\n",
       " 3: 'be',\n",
       " 4: 'else',\n",
       " 5: 'everyone',\n",
       " 6: 'have',\n",
       " 7: 'is',\n",
       " 8: 'not',\n",
       " 9: 'of',\n",
       " 10: 'or',\n",
       " 11: 'question',\n",
       " 12: 'result',\n",
       " 13: 'taken',\n",
       " 14: 'that',\n",
       " 15: 'the',\n",
       " 16: 'thought',\n",
       " 17: 'to',\n",
       " 18: 'we',\n",
       " 19: 'what',\n",
       " 20: 'yourself'}"
      ]
     },
     "execution_count": 9,
     "metadata": {},
     "output_type": "execute_result"
    }
   ],
   "source": [
    "# decoder\n",
    "idx2word = {}\n",
    "for i, word in enumerate(vocab):\n",
    "    idx2word[i] = word\n",
    "\n",
    "idx2word"
   ]
  },
  {
   "cell_type": "code",
   "execution_count": 10,
   "id": "945f006d",
   "metadata": {},
   "outputs": [
    {
     "name": "stdout",
     "output_type": "stream",
     "text": [
      "The word \"to\" has index 17\n",
      "The index \"7\" maps to the word \"is\"\n"
     ]
    }
   ],
   "source": [
    "print(f'The word \"to\" has index {word2idx[\"to\"]}')\n",
    "print(f'The index \"7\" maps to the word \"{idx2word[7]}\"')"
   ]
  },
  {
   "cell_type": "markdown",
   "id": "af530a9d",
   "metadata": {},
   "source": [
    "# make fake quotes"
   ]
  },
  {
   "cell_type": "code",
   "execution_count": 11,
   "id": "573c41ae",
   "metadata": {},
   "outputs": [
    {
     "data": {
      "text/plain": [
       "['all', 'is', 'be', 'we', 'to']"
      ]
     },
     "execution_count": 11,
     "metadata": {},
     "output_type": "execute_result"
    }
   ],
   "source": [
    "# select random words from the dict\n",
    "import numpy as np\n",
    "rand_idx = np.random.randint(0, len(vocab), size=5)\n",
    "\n",
    "[idx2word[i] for i in rand_idx]"
   ]
  },
  {
   "cell_type": "code",
   "execution_count": 12,
   "id": "70347151",
   "metadata": {},
   "outputs": [
    {
     "data": {
      "text/plain": [
       "'all is be we to'"
      ]
     },
     "execution_count": 12,
     "metadata": {},
     "output_type": "execute_result"
    }
   ],
   "source": [
    "' '.join([idx2word[i] for i in rand_idx])"
   ]
  },
  {
   "cell_type": "markdown",
   "id": "39c19a89",
   "metadata": {},
   "source": [
    "# a peak at tokenization"
   ]
  },
  {
   "cell_type": "code",
   "execution_count": 13,
   "id": "54b5ca90",
   "metadata": {},
   "outputs": [
    {
     "data": {
      "text/plain": [
       "[0,\n",
       " 14,\n",
       " 18,\n",
       " 2,\n",
       " 7,\n",
       " 15,\n",
       " 12,\n",
       " 9,\n",
       " 19,\n",
       " 18,\n",
       " 6,\n",
       " 16,\n",
       " 17,\n",
       " 3,\n",
       " 10,\n",
       " 8,\n",
       " 17,\n",
       " 3,\n",
       " 14,\n",
       " 7,\n",
       " 15,\n",
       " 11,\n",
       " 3,\n",
       " 20,\n",
       " 5,\n",
       " 4,\n",
       " 7,\n",
       " 1,\n",
       " 13]"
      ]
     },
     "execution_count": 13,
     "metadata": {},
     "output_type": "execute_result"
    }
   ],
   "source": [
    "# text to numbers\n",
    "text_as_int = [ word2idx[word] for word in allwords]\n",
    "text_as_int"
   ]
  },
  {
   "cell_type": "code",
   "execution_count": 14,
   "id": "4334e004",
   "metadata": {},
   "outputs": [
    {
     "name": "stdout",
     "output_type": "stream",
     "text": [
      "Token  0: all\n",
      "Token 14: that\n",
      "Token 18: we\n",
      "Token  2: are\n",
      "Token  7: is\n",
      "Token 15: the\n",
      "Token 12: result\n",
      "Token  9: of\n",
      "Token 19: what\n",
      "Token 18: we\n",
      "Token  6: have\n",
      "Token 16: thought\n",
      "Token 17: to\n",
      "Token  3: be\n",
      "Token 10: or\n",
      "Token  8: not\n",
      "Token 17: to\n",
      "Token  3: be\n",
      "Token 14: that\n",
      "Token  7: is\n",
      "Token 15: the\n",
      "Token 11: question\n",
      "Token  3: be\n",
      "Token 20: yourself\n",
      "Token  5: everyone\n",
      "Token  4: else\n",
      "Token  7: is\n",
      "Token  1: already\n",
      "Token 13: taken\n"
     ]
    }
   ],
   "source": [
    "# numbers back to text\n",
    "for token_i in text_as_int:\n",
    "    print(f\"Token {token_i:2}: {idx2word[token_i]}\")"
   ]
  },
  {
   "cell_type": "code",
   "execution_count": null,
   "id": "5fb459ab",
   "metadata": {},
   "outputs": [],
   "source": []
  }
 ],
 "metadata": {
  "kernelspec": {
   "display_name": "llm-deep-dive",
   "language": "python",
   "name": "python3"
  },
  "language_info": {
   "codemirror_mode": {
    "name": "ipython",
    "version": 3
   },
   "file_extension": ".py",
   "mimetype": "text/x-python",
   "name": "python",
   "nbconvert_exporter": "python",
   "pygments_lexer": "ipython3",
   "version": "3.14.0"
  }
 },
 "nbformat": 4,
 "nbformat_minor": 5
}
